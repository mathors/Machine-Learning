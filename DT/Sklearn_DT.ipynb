{
 "cells": [
  {
   "cell_type": "markdown",
   "metadata": {},
   "source": [
    "# 决策树预测隐形眼镜类型\n",
    "Sklearn实现K-近邻算法[官网英文文档地址](https://scikit-learn.org/stable/modules/generated/sklearn.tree.DecisionTreeClassifier.html)"
   ]
  },
  {
   "cell_type": "code",
   "execution_count": 7,
   "metadata": {},
   "outputs": [],
   "source": [
    "import pandas as pd\n",
    "import pydotplus\n",
    "from sklearn import tree\n",
    "from sklearn.externals.six import StringIO\n",
    "from sklearn.preprocessing import LabelEncoder"
   ]
  },
  {
   "cell_type": "code",
   "execution_count": 19,
   "metadata": {},
   "outputs": [
    {
     "name": "stdout",
     "output_type": "stream",
     "text": [
      "['hard']\n"
     ]
    }
   ],
   "source": [
    "with open('Data/lenses.txt','r') as fr: # 加载文件\n",
    "    '''\n",
    "    数据预处理\n",
    "    '''\n",
    "    lenses = [inst.strip().split('\\t') for inst in fr.readlines()] # 处理文件\n",
    "    lenses_target = [] # 提取每组数据的类别\n",
    "    for each in lenses:\n",
    "        lenses_target.append(each[-1])\n",
    "    \n",
    "    lensesLabels = ['age','prescript','astigmatic','tearRate'] # 特征标签\n",
    "    lenses_list = [] # 保存lenses数据的临时列表\n",
    "    lenses_dict = {} # 保存lenses数据的字典，用于生成pandas\n",
    "    for each_label in lensesLabels:\n",
    "        for each in lenses:\n",
    "            lenses_list.append(each[lensesLabels.index(each_label)])\n",
    "        lenses_dict[each_label] = lenses_list\n",
    "        lenses_list = []\n",
    "    lenses_pd = pd.DataFrame(lenses_dict) # 生成DataFrame\n",
    "    \n",
    "    '''\n",
    "    开始调用Sklearn中的决策树函数\n",
    "    '''\n",
    "    le = LabelEncoder() # 创建LabelEncoder()对象，用于序列化\n",
    "    for col in lenses_pd.columns: # 序列化\n",
    "        lenses_pd[col] = le.fit_transform(lenses_pd[col])\n",
    "    clf = tree.DecisionTreeClassifier(max_depth = 4) # 创建决策树类，可以适当调参\n",
    "    clf = clf.fit(lenses_pd.values.tolist(), lenses_target) # 使用数据，构建决策树\n",
    "    \n",
    "    dot_data = StringIO()\n",
    "    tree.export_graphviz(clf,out_file=dot_data, # 绘制决策树\n",
    "                        feature_names=lenses_pd.keys(),\n",
    "                        class_names=clf.classes_,\n",
    "                        filled=True,rounded=True,\n",
    "                        special_characters=True)\n",
    "    graph = pydotplus.graph_from_dot_data(dot_data.getvalue())\n",
    "    graph.write_pdf('tree.pdf') # 保存绘制好的决策树，以PDF形式存储\n",
    "    print(clf.predict([[1,1,1,0]]))"
   ]
  }
 ],
 "metadata": {
  "kernelspec": {
   "display_name": "Python 3",
   "language": "python",
   "name": "python3"
  },
  "language_info": {
   "codemirror_mode": {
    "name": "ipython",
    "version": 3
   },
   "file_extension": ".py",
   "mimetype": "text/x-python",
   "name": "python",
   "nbconvert_exporter": "python",
   "pygments_lexer": "ipython3",
   "version": "3.6.5"
  }
 },
 "nbformat": 4,
 "nbformat_minor": 2
}
