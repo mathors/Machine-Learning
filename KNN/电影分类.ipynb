{
 "cells": [
  {
   "cell_type": "markdown",
   "metadata": {},
   "source": [
    "# K-近邻算法进行电影分类"
   ]
  },
  {
   "cell_type": "markdown",
   "metadata": {},
   "source": [
    "电影名称|打斗镜头|接吻镜头|电影类型\n",
    "--|--|--|--|\n",
    "电影1|1|101|爱情片|\n",
    "电影2|5|89|爱情片|\n",
    "电影3|108|5|动作片|\n",
    "电影4|115|81|动作片|"
   ]
  },
  {
   "cell_type": "code",
   "execution_count": null,
   "metadata": {},
   "outputs": [],
   "source": [
    "import numpy as np\n",
    "import operator"
   ]
  },
  {
   "cell_type": "markdown",
   "metadata": {},
   "source": [
    "## 创建数据"
   ]
  },
  {
   "cell_type": "code",
   "execution_count": 25,
   "metadata": {},
   "outputs": [],
   "source": [
    "def createDataset():\n",
    "    group = np.array([[1,101],[5,89],[108,5],[115,81]])\n",
    "    labels = ['爱情片','爱情片','动作片','动作片']\n",
    "    return group, labels"
   ]
  },
  {
   "cell_type": "markdown",
   "metadata": {},
   "source": [
    "## 分类"
   ]
  },
  {
   "cell_type": "code",
   "execution_count": 29,
   "metadata": {},
   "outputs": [],
   "source": [
    "def classify0(inx, dataset, labels, k):# 参数分别为 输入，训练样本集，标签，近邻个数\n",
    "    '''\n",
    "    计算输入矩阵到样本集的欧氏距离\n",
    "    '''\n",
    "    dataSetSize = dataset.shape[0] # 返回行数\n",
    "    # tile函数将第一个参数行复值dataSetSize次，列复制1次，以达到和dataset同维度的效果\n",
    "    diffMat = np.tile(inx, (dataSetSize,1)) - dataset # 将输入和所有的样本集各维对应相减\n",
    "    sqDiffMat = diffMat ** 2 #各维数据各自求平方\n",
    "    sqDistances = sqDiffMat.sum(axis = 1) #sum(0)列内求和，sum(1)行内求和\n",
    "    distances = sqDistances ** 0.5\n",
    "    sortedDistIndices = distances.argsort() #返回值由小达到排序后的索引\n",
    "    \n",
    "    '''\n",
    "    统计距离最近的前k个样本分别是什么类型的电影\n",
    "    '''\n",
    "    classCount = {}\n",
    "    for i in range(k):\n",
    "        # 取出前k个元素的类别\n",
    "        votelabel = labels[sortedDistIndices[i]]\n",
    "        classCount[votelabel] = classCount.get(votelabel, 0) + 1 # 如果不存在返回0\n",
    "    \n",
    "    '''\n",
    "    返回次数最多的类别\n",
    "    '''\n",
    "    # key = operator.itemgetter(1)根据字典的值进行排序\n",
    "    # key = operator.itemgetter(0)根据字典的键进行排序\n",
    "    # reverse降序\n",
    "    sortedClassCount = sorted(classCount.items(), key=operator.itemgetter(1),reverse=True)\n",
    "    return sortedClassCount[0][0]"
   ]
  },
  {
   "cell_type": "code",
   "execution_count": 30,
   "metadata": {},
   "outputs": [],
   "source": [
    "def inputArr():\n",
    "    fight = int(input(\"打斗镜头数：\"))\n",
    "    kiss = int(input(\"接吻镜头数：\"))\n",
    "    test = [fight,kiss]\n",
    "    return test"
   ]
  },
  {
   "cell_type": "code",
   "execution_count": 37,
   "metadata": {},
   "outputs": [
    {
     "name": "stdout",
     "output_type": "stream",
     "text": [
      "打斗镜头数：100\n",
      "接吻镜头数：70\n",
      "动作片\n"
     ]
    }
   ],
   "source": [
    "group, labels = createDataset()\n",
    "test = inputArr()\n",
    "test_class = classify0(test, group, labels, 3)\n",
    "print(test_class)"
   ]
  }
 ],
 "metadata": {
  "kernelspec": {
   "display_name": "Python 3",
   "language": "python",
   "name": "python3"
  },
  "language_info": {
   "codemirror_mode": {
    "name": "ipython",
    "version": 3
   },
   "file_extension": ".py",
   "mimetype": "text/x-python",
   "name": "python",
   "nbconvert_exporter": "python",
   "pygments_lexer": "ipython3",
   "version": "3.6.5"
  }
 },
 "nbformat": 4,
 "nbformat_minor": 2
}
