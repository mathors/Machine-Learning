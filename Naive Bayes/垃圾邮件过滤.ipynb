{
 "cells": [
  {
   "cell_type": "markdown",
   "metadata": {},
   "source": [
    "# 垃圾邮件过滤"
   ]
  },
  {
   "cell_type": "code",
   "execution_count": 73,
   "metadata": {},
   "outputs": [],
   "source": [
    "import numpy as np\n",
    "import random\n",
    "import re"
   ]
  },
  {
   "cell_type": "markdown",
   "metadata": {},
   "source": [
    "## 正则切割文本"
   ]
  },
  {
   "cell_type": "code",
   "execution_count": 74,
   "metadata": {},
   "outputs": [],
   "source": [
    "def textParse(bigString):  \n",
    "    #将字符串转换为字符列表\n",
    "    listOfTokens = re.split(r'\\W*', bigString)\n",
    "    #将特殊符号作为切分标志进行字符串切分，即非字母、非数字\n",
    "    return [tok.lower() for tok in listOfTokens if len(tok) > 2]"
   ]
  },
  {
   "cell_type": "markdown",
   "metadata": {},
   "source": [
    "## 创建词汇表（去重）"
   ]
  },
  {
   "cell_type": "code",
   "execution_count": 75,
   "metadata": {},
   "outputs": [],
   "source": [
    "def createVocabList(dataSet):\n",
    "    vocabSet = set([])\n",
    "    for document in dataSet:\n",
    "        vocabSet = vocabSet | set(document)\n",
    "    return list(vocabSet)"
   ]
  },
  {
   "cell_type": "markdown",
   "metadata": {},
   "source": [
    "## 向量化"
   ]
  },
  {
   "cell_type": "code",
   "execution_count": 76,
   "metadata": {},
   "outputs": [],
   "source": [
    "def setOfWords2Vec(vocabList, inputSet):\n",
    "    returnVec = [0] * len(vocabList)\n",
    "    for word in inputSet:\n",
    "        if word in vocabList:\n",
    "            returnVec[vocabList.index(word)] = 1\n",
    "    return returnVec"
   ]
  },
  {
   "cell_type": "markdown",
   "metadata": {},
   "source": [
    "## 朴素贝叶斯分类器训练函数"
   ]
  },
  {
   "cell_type": "code",
   "execution_count": 77,
   "metadata": {},
   "outputs": [],
   "source": [
    "def trainNB0(trainMatrix, trainCategory):\n",
    "    numTrainDocs = len(trainMatrix) # 计算训练的文档数\n",
    "    numWords = len(trainMatrix[0]) # 计算每篇文档的词条数\n",
    "    pAbusive = sum(trainCategory) / len(trainCategory) # 侮辱类词汇的占比\n",
    "    p0Num = np.ones(numWords) # 存所有非侮辱类词汇的条件概率\n",
    "    p1Num = np.ones(numWords) # 存所有侮辱类词汇的条件概率\n",
    "    p0Denom = 2.0\n",
    "    p1Denom = 2.0 # 分母初始化为2，拉普拉斯平滑\n",
    "    for i in range(numTrainDocs):\n",
    "        if trainCategory[i] == 1: # 侮辱类，即P(w0|1),P(w1|1)...\n",
    "            p1Num += trainMatrix[i]\n",
    "            p1Denom += sum(trainMatrix[i])\n",
    "        else: # 非侮辱类，即P(w0|0),P(w1|0)\n",
    "            p0Num += trainMatrix[i]\n",
    "            p0Denom += sum(trainMatrix[i])\n",
    "    p1Vec = np.log(p1Num / p1Denom) # 取log，防止指数\n",
    "    p0Vec = np.log(p0Num / p0Denom)\n",
    "    return p0Vec, p1Vec, pAbusive"
   ]
  },
  {
   "cell_type": "markdown",
   "metadata": {},
   "source": [
    "## 利用朴素贝叶斯进行分类"
   ]
  },
  {
   "cell_type": "code",
   "execution_count": 78,
   "metadata": {},
   "outputs": [],
   "source": [
    "def classifyNB(vec2Classify, p0Vec, p1Vec, pClass1):\n",
    "    p1 = sum(vec2Classify * p1Vec) + np.log(pClass1) # 对应元素相乘 log(a*b) = loga + logb\n",
    "    p0 = sum(vec2Classify * p0Vec) + np.log(1 - pClass1)\n",
    "    if p0 > p1:\n",
    "        return 0\n",
    "    else:\n",
    "        return 1"
   ]
  },
  {
   "cell_type": "code",
   "execution_count": 94,
   "metadata": {},
   "outputs": [
    {
     "name": "stdout",
     "output_type": "stream",
     "text": [
      "分类错误的测试集： ['yay', 'you', 'both', 'doing', 'fine', 'working', 'mba', 'design', 'strategy', 'cca', 'top', 'art', 'school', 'new', 'program', 'focusing', 'more', 'right', 'brained', 'creative', 'and', 'strategic', 'approach', 'management', 'the', 'way', 'done', 'today']\n",
      "错误率：10.00%\n"
     ]
    },
    {
     "name": "stderr",
     "output_type": "stream",
     "text": [
      "/home/demeen/anaconda3/lib/python3.6/re.py:212: FutureWarning: split() requires a non-empty pattern match.\n",
      "  return _compile(pattern, flags).split(string, maxsplit)\n"
     ]
    }
   ],
   "source": [
    "docList = []; classList = []; fullText = []\n",
    "for i in range(1, 26):                                                  #遍历25个txt文件\n",
    "    wordList = textParse(open('Data/email/spam/%d.txt' % i, 'r', encoding='ISO-8859-1').read())     #读取每个垃圾邮件，并字符串转换成字符串列表\n",
    "    docList.append(wordList)\n",
    "    fullText.append(wordList)\n",
    "    classList.append(1)                                                 #标记垃圾邮件，1表示垃圾文件\n",
    "    wordList = textParse(open('Data/email/ham/%d.txt' % i, 'r', encoding='ISO-8859-1').read())      #读取每个非垃圾邮件，并字符串转换成字符串列表\n",
    "    docList.append(wordList)\n",
    "    fullText.append(wordList)\n",
    "    classList.append(0)                                                 #标记非垃圾邮件，1表示垃圾文件    \n",
    "vocabList = createVocabList(docList)                                    #创建词汇表，不重复\n",
    "trainingSet = list(range(50)); testSet = []                             #创建存储训练集的索引值的列表和测试集的索引值的列表                        \n",
    "for i in range(10):                                                     #从50个邮件中，随机挑选出40个作为训练集,10个做测试集\n",
    "    randIndex = int(random.uniform(0, len(trainingSet)))                #随机选取索索引值\n",
    "    testSet.append(trainingSet[randIndex])                              #添加测试集的索引值\n",
    "    del(trainingSet[randIndex])                                         #在训练集列表中删除添加到测试集的索引值\n",
    "trainMat = []; trainClasses = []                                        #创建训练集矩阵和训练集类别标签系向量             \n",
    "for docIndex in trainingSet:                                            #遍历训练集\n",
    "    trainMat.append(setOfWords2Vec(vocabList, docList[docIndex]))       #将生成的词集模型添加到训练矩阵中\n",
    "    trainClasses.append(classList[docIndex])                            #将类别添加到训练集类别标签系向量中\n",
    "p0V, p1V, pSpam = trainNB0(np.array(trainMat), np.array(trainClasses))  #训练朴素贝叶斯模型\n",
    "errorCount = 0                                                          #错误分类计数\n",
    "for docIndex in testSet:                                                #遍历测试集\n",
    "    wordVector = setOfWords2Vec(vocabList, docList[docIndex])           #测试集的词集模型\n",
    "    if classifyNB(np.array(wordVector), p0V, p1V, pSpam) != classList[docIndex]:    #如果分类错误\n",
    "        errorCount += 1                                                 #错误计数加1\n",
    "        print(\"分类错误的测试集：\",docList[docIndex])\n",
    "print('错误率：%.2f%%' % (float(errorCount) / len(testSet) * 100))"
   ]
  }
 ],
 "metadata": {
  "kernelspec": {
   "display_name": "Python 3",
   "language": "python",
   "name": "python3"
  },
  "language_info": {
   "codemirror_mode": {
    "name": "ipython",
    "version": 3
   },
   "file_extension": ".py",
   "mimetype": "text/x-python",
   "name": "python",
   "nbconvert_exporter": "python",
   "pygments_lexer": "ipython3",
   "version": "3.6.5"
  }
 },
 "nbformat": 4,
 "nbformat_minor": 2
}
