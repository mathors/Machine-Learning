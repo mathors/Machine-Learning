{
 "cells": [
  {
   "cell_type": "markdown",
   "metadata": {},
   "source": [
    "# 文本情感分析（基于伯努利模型的朴素贝叶斯）"
   ]
  },
  {
   "cell_type": "code",
   "execution_count": 47,
   "metadata": {},
   "outputs": [],
   "source": [
    "from functools import reduce\n",
    "import numpy as np"
   ]
  },
  {
   "cell_type": "markdown",
   "metadata": {},
   "source": [
    "## 创建实验样本"
   ]
  },
  {
   "cell_type": "code",
   "execution_count": 48,
   "metadata": {},
   "outputs": [],
   "source": [
    "def loadDataSet():\n",
    "    postingList = [\n",
    "        ['my','dog','has','flea','problem','help','please'], # 无侮辱性\n",
    "        ['maybe','not','take','him','to','dog','park','stupid'], # 侮辱性\n",
    "        ['my','dalmation','is','so','cute','I','love','him'], # 无侮辱性\n",
    "        ['stop','posting','stupid','worthless','garbage'], # 侮辱性\n",
    "        ['mr','licks','ate','my','steak','how','to','stop','him'], # 无侮辱性\n",
    "        ['quit','buying','worthless','dog','food','stupid'] # 侮辱性\n",
    "    ]\n",
    "    classVec = [0,1,0,1,0,1] # 1代表侮辱性，0代表不是\n",
    "    return postingList, classVec"
   ]
  },
  {
   "cell_type": "markdown",
   "metadata": {},
   "source": [
    "## 创建词汇表（去重）"
   ]
  },
  {
   "cell_type": "code",
   "execution_count": 49,
   "metadata": {},
   "outputs": [],
   "source": [
    "def createVocabList(dataSet):\n",
    "    vocabSet = set([])\n",
    "    for document in dataSet:\n",
    "        vocabSet = vocabSet | set(document)\n",
    "    return list(vocabSet)"
   ]
  },
  {
   "cell_type": "markdown",
   "metadata": {},
   "source": [
    "## 向量化"
   ]
  },
  {
   "cell_type": "code",
   "execution_count": 50,
   "metadata": {},
   "outputs": [],
   "source": [
    "def setOfWords2Vec(vocabList, inputSet):\n",
    "    returnVec = [0] * len(vocabList)\n",
    "    for word in inputSet:\n",
    "        if word in vocabList:\n",
    "            returnVec[vocabList.index(word)] = 1\n",
    "    return returnVec"
   ]
  },
  {
   "cell_type": "markdown",
   "metadata": {},
   "source": [
    "## 朴素贝叶斯分类器训练函数"
   ]
  },
  {
   "cell_type": "code",
   "execution_count": 51,
   "metadata": {},
   "outputs": [],
   "source": [
    "def trainNB0(trainMatrix, trainCategory):\n",
    "    numTrainDocs = len(trainMatrix) # 计算训练的文档数\n",
    "    numWords = len(trainMatrix[0]) # 计算每篇文档的词条数\n",
    "    pAbusive = sum(trainCategory) / len(trainCategory) # 侮辱类词汇的占比\n",
    "    p0Num = np.ones(numWords) # 存所有非侮辱类词汇的条件概率\n",
    "    p1Num = np.ones(numWords) # 存所有侮辱类词汇的条件概率\n",
    "    p0Denom = 2.0\n",
    "    p1Denom = 2.0 # 分母初始化为2，拉普拉斯平滑\n",
    "    for i in range(numTrainDocs):\n",
    "        if trainCategory[i] == 1: # 侮辱类，即P(w0|1),P(w1|1)...\n",
    "            p1Num += trainMatrix[i]\n",
    "            p1Denom += sum(trainMatrix[i])\n",
    "        else: # 非侮辱类，即P(w0|0),P(w1|0)\n",
    "            p0Num += trainMatrix[i]\n",
    "            p0Denom += sum(trainMatrix[i])\n",
    "    p1Vec = np.log(p1Num / p1Denom) # 取log，防止指数\n",
    "    p0Vec = np.log(p0Num / p0Denom)\n",
    "    return p0Vec, p1Vec, pAbusive"
   ]
  },
  {
   "cell_type": "markdown",
   "metadata": {},
   "source": [
    "## 利用朴素贝叶斯进行分类"
   ]
  },
  {
   "cell_type": "code",
   "execution_count": 52,
   "metadata": {},
   "outputs": [],
   "source": [
    "def classifyNB(vec2Classify, p0Vec, p1Vec, pClass1):\n",
    "    p1 = sum(vec2Classify * p1Vec) + np.log(pClass1) # 对应元素相乘 log(a*b) = loga + logb\n",
    "    p0 = sum(vec2Classify * p0Vec) + np.log(1 - pClass1)\n",
    "    if p0 > p1:\n",
    "        return 0\n",
    "    else:\n",
    "        return 1"
   ]
  },
  {
   "cell_type": "markdown",
   "metadata": {},
   "source": [
    "## 主函数"
   ]
  },
  {
   "cell_type": "code",
   "execution_count": 55,
   "metadata": {},
   "outputs": [
    {
     "name": "stdout",
     "output_type": "stream",
     "text": [
      "['love', 'my', 'dalmation'] 属于非侮辱类\n",
      "['stupid', 'garbage'] 属于侮辱类\n"
     ]
    }
   ],
   "source": [
    "postingList, classVec = loadDataSet()\n",
    "myVocabList = createVocabList(postingList)\n",
    "trainMat = []\n",
    "for postinDoc in postingList:\n",
    "    trainMat.append(setOfWords2Vec(myVocabList, postinDoc))\n",
    "p0V, p1V, pAb = trainNB0(trainMat, classVec)\n",
    "testEntry = ['love','my','dalmation'] # 测试样本1\n",
    "thisDoc = np.array(setOfWords2Vec(myVocabList, testEntry))\n",
    "if classifyNB(thisDoc, p0V, p1V, pAb):\n",
    "    print(testEntry,'属于侮辱类')\n",
    "else:\n",
    "    print(testEntry,'属于非侮辱类')\n",
    "    \n",
    "testEntry = ['stupid','garbage'] # 测试样本2\n",
    "thisDoc = np.array(setOfWords2Vec(myVocabList, testEntry))\n",
    "if classifyNB(thisDoc, p0V, p1V, pAb):\n",
    "    print(testEntry,'属于侮辱类')\n",
    "else:\n",
    "    print(testEntry,'属于非侮辱类')"
   ]
  }
 ],
 "metadata": {
  "kernelspec": {
   "display_name": "Python 3",
   "language": "python",
   "name": "python3"
  },
  "language_info": {
   "codemirror_mode": {
    "name": "ipython",
    "version": 3
   },
   "file_extension": ".py",
   "mimetype": "text/x-python",
   "name": "python",
   "nbconvert_exporter": "python",
   "pygments_lexer": "ipython3",
   "version": "3.6.5"
  }
 },
 "nbformat": 4,
 "nbformat_minor": 2
}
