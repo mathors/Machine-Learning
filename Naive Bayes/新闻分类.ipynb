{
 "cells": [
  {
   "cell_type": "markdown",
   "metadata": {},
   "source": [
    "# 新闻分类（基于多项式模型的贝叶斯）"
   ]
  },
  {
   "cell_type": "code",
   "execution_count": 65,
   "metadata": {},
   "outputs": [],
   "source": [
    "import os\n",
    "import jieba\n",
    "import random\n",
    "import matplotlib.pyplot as plt\n",
    "from sklearn.naive_bayes import MultinomialNB"
   ]
  },
  {
   "cell_type": "markdown",
   "metadata": {},
   "source": [
    "## 文本预处理"
   ]
  },
  {
   "cell_type": "code",
   "execution_count": 97,
   "metadata": {},
   "outputs": [],
   "source": [
    "def TextProcessing(folder_path, test_size = 0.2):\n",
    "    folder_list = os.listdir(folder_path)\n",
    "    data_list = []\n",
    "    class_list = []\n",
    "    \n",
    "    # 遍历每个子文件夹\n",
    "    for folder in folder_list:\n",
    "        # join函数的作用是拼接字符串\n",
    "        new_folder_path = os.path.join(folder_path, folder) # 根据子文件夹，生成新路径\n",
    "        files = os.listdir(new_folder_path)\n",
    "        \n",
    "        j = 1\n",
    "        # 遍历每个txt文件\n",
    "        for file in files:\n",
    "            if j > 100: # 每个txt样本数最多100个\n",
    "                break;\n",
    "            with open(os.path.join(new_folder_path, file), 'r', encoding = 'utf-8') as f:\n",
    "                raw = f.read()\n",
    "                \n",
    "            word_cut = jieba.cut(raw, cut_all=False) # 精简模式，返回一个可迭代的generator\n",
    "            word_list = list(word_cut)\n",
    "            \n",
    "            data_list.append(word_list)\n",
    "            class_list.append(folder)\n",
    "            j += 1\n",
    "            \n",
    "    data_class_list = list(zip(data_list, class_list)) # 将class_list拼接到data_list后面\n",
    "    random.shuffle(data_class_list) # 将data_class_list乱序\n",
    "    index = int(len(data_class_list) * test_size) + 1 # 训练集和测试集切分的索引值\n",
    "    train_list = data_class_list[index:] # 训练集\n",
    "    test_list = data_class_list[:index] # 测试集\n",
    "    train_data_list, train_class_list = zip(*train_list) # 将标签和样本拆分开\n",
    "    test_data_list, test_class_list = zip(*test_list)\n",
    "    \n",
    "    all_words_dict = {} # 统计训练集词频\n",
    "    for word_list in train_data_list:\n",
    "        for word in word_list:\n",
    "            if word in all_words_dict.keys():\n",
    "                all_words_dict[word] += 1\n",
    "            else:\n",
    "                all_words_dict[word] = 1\n",
    "                \n",
    "    # 根据单词出现的次数降序排列\n",
    "    all_words_tuple_list = sorted(all_words_dict.items(), key = lambda f:f[1], reverse=True)\n",
    "    all_words_list, all_words_nums = zip(*all_words_tuple_list) # 解压缩\n",
    "    all_words_list = list(all_words_list) # 转换成列表\n",
    "    return all_words_list, train_data_list, test_data_list, train_class_list, test_class_list"
   ]
  },
  {
   "cell_type": "markdown",
   "metadata": {},
   "source": [
    "## 读取文件内容并去重"
   ]
  },
  {
   "cell_type": "code",
   "execution_count": 98,
   "metadata": {},
   "outputs": [],
   "source": [
    "def makeWordsSet(words_file):\n",
    "    words_set = set() # 创建set集合\n",
    "    with open(words_file, 'r', encoding = 'utf-8') as f: # 打开文件\n",
    "        for line in f.readlines(): # 一行一行读取\n",
    "            word = line.strip()# 去回车\n",
    "            if len(word) > 0:# 有文本，则添加到words_set中\n",
    "                words_set.add(word)\n",
    "    return words_set "
   ]
  },
  {
   "cell_type": "markdown",
   "metadata": {},
   "source": [
    "## 将文本向量化"
   ]
  },
  {
   "cell_type": "code",
   "execution_count": 99,
   "metadata": {},
   "outputs": [],
   "source": [
    "def TextFeatures(train_data_list, test_data_list, feature_words):\n",
    "    def text_features(text, feature_words):\n",
    "        text_words = set(text)\n",
    "        features = [1 if word in text_words else 0 for word in feature_words]\n",
    "        return features\n",
    "    train_feature_list = [text_features(text, feature_words) for text in train_data_list]\n",
    "    test_feature_list = [text_features(text, feature_words) for text in test_data_list]\n",
    "    return train_feature_list, test_feature_list"
   ]
  },
  {
   "cell_type": "markdown",
   "metadata": {},
   "source": [
    "## 文本特征选取"
   ]
  },
  {
   "cell_type": "code",
   "execution_count": 100,
   "metadata": {},
   "outputs": [],
   "source": [
    "def words_dict(all_words_list, deleteN, stopwords_set = set()):\n",
    "    feature_words = []\n",
    "    n = 1\n",
    "    for t in range(deleteN, len(all_words_list), 1):\n",
    "        if n > 1000:\n",
    "            break\n",
    "        # 如果这个词不是数字 && 不是指定的停用词 && 单词长度大于1小于5，那么这个单词可以作为特征词\n",
    "        if not all_words_list[t].isdigit() and all_words_list[t] not in stopwords_set and 1 < len(all_words_list[t]) < 5:\n",
    "            feature_words.append(all_words_list[t])\n",
    "        n += 1\n",
    "    return feature_words"
   ]
  },
  {
   "cell_type": "markdown",
   "metadata": {},
   "source": [
    "## 新闻分类"
   ]
  },
  {
   "cell_type": "code",
   "execution_count": 122,
   "metadata": {},
   "outputs": [],
   "source": [
    "def TextClassifier(train_feature_list, test_feature_list, train_class_list, test_class_list):\n",
    "    classifier = MultinomialNB().fit(train_feature_list, train_class_list)\n",
    "    test_accuracy = classifier.score(test_feature_list, test_class_list)\n",
    "    return test_accuracy"
   ]
  },
  {
   "cell_type": "code",
   "execution_count": 123,
   "metadata": {},
   "outputs": [],
   "source": [
    "# 文本预处理\n",
    "folder_path = \"Data/SogouC/Sample\"\n",
    "all_words_list, train_data_list, test_data_list, train_class_list, test_class_list = TextProcessing(folder_path, test_size=0.2)"
   ]
  },
  {
   "cell_type": "code",
   "execution_count": 124,
   "metadata": {},
   "outputs": [],
   "source": [
    "# 生成stopwords_set\n",
    "stopwords_file = \"Data/SogouC/stopwords_cn.txt\"\n",
    "stopwords_set = makeWordsSet(stopwords_file)"
   ]
  },
  {
   "cell_type": "code",
   "execution_count": 125,
   "metadata": {},
   "outputs": [],
   "source": [
    "test_accuracy_list = []\n",
    "# 需要去除一些高频词的原因是：高频词一般是标点符号、了、好、在、当然、是的等等，这些词对分类是没用的\n",
    "# 但是具体要去除多少是不清楚的，所以才有了下面的实验，看到底去掉多少个高频词使得最后的准确率最高\n",
    "deleteNs = range(0, 1000, 20) #0 20 40 60 ... 980\n",
    "for deleteN in deleteNs:\n",
    "    feature_words = words_dict(all_words_list, deleteN, stopwords_set)\n",
    "    train_feature_list, test_feature_list = TextFeatures(train_data_list, test_data_list, feature_words)\n",
    "    test_accuracy = TextClassifier(train_feature_list, test_feature_list, train_class_list, test_class_list)\n",
    "    test_accuracy_list.append(test_accuracy)"
   ]
  },
  {
   "cell_type": "code",
   "execution_count": 126,
   "metadata": {},
   "outputs": [],
   "source": [
    "#ave = lambda c: sum(c) / len(c)\n",
    "#print(ave(test_accuracy_list))"
   ]
  },
  {
   "cell_type": "code",
   "execution_count": 127,
   "metadata": {},
   "outputs": [
    {
     "data": {
      "image/png": "[encoded data removed]",
      "text/plain": [
       "<Figure size 432x288 with 1 Axes>"
      ]
     },
     "metadata": {},
     "output_type": "display_data"
    }
   ],
   "source": [
    "\n",
    "plt.plot(deleteNs, test_accuracy_list)\n",
    "plt.title('Relationship of deleteNs and test_accuracy')\n",
    "plt.xlabel('deleteNs')\n",
    "plt.ylabel('test_accuracy')\n",
    "plt.show()"
   ]
  },
  {
   "cell_type": "markdown",
   "metadata": {},
   "source": [
    "从上图看出，当去掉前200左右的高频词时，预测准确率最高"
   ]
  }
 ],
 "metadata": {
  "kernelspec": {
   "display_name": "Python 3",
   "language": "python",
   "name": "python3"
  },
  "language_info": {
   "codemirror_mode": {
    "name": "ipython",
    "version": 3
   },
   "file_extension": ".py",
   "mimetype": "text/x-python",
   "name": "python",
   "nbconvert_exporter": "python",
   "pygments_lexer": "ipython3",
   "version": "3.6.5"
  }
 },
 "nbformat": 4,
 "nbformat_minor": 2
}
