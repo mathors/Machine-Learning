{
 "cells": [
  {
   "cell_type": "markdown",
   "metadata": {},
   "source": [
    "# 手写决策树"
   ]
  },
  {
   "cell_type": "code",
   "execution_count": 1,
   "metadata": {},
   "outputs": [],
   "source": [
    "from math import log"
   ]
  },
  {
   "cell_type": "markdown",
   "metadata": {},
   "source": [
    "## 计算香农熵"
   ]
  },
  {
   "cell_type": "code",
   "execution_count": 25,
   "metadata": {},
   "outputs": [],
   "source": [
    "def calcShannonEnt(dataSet):\n",
    "    numEntires = len(dataSet) # 返回数据集的行数\n",
    "    labelCounts = {}\n",
    "    for featVec in dataSet: # 对每组特征向量进行统计\n",
    "        currentLabel = featVec[-1] # 提取Label的值\n",
    "        if currentLabel not in labelCounts.keys(): # Label没放入统计次数的字典则添加进去\n",
    "            labelCounts[currentLabel] = 0\n",
    "        labelCounts[currentLabel] += 1\n",
    "    shannonEnt = 0.0 # 香农熵\n",
    "    for key in labelCounts: # 计算香农熵\n",
    "        prob = float(labelCounts[key] / numEntires) # 计算Label的概率\n",
    "        shannonEnt -= prob * log(prob, 2) # 利用公式计算\n",
    "    return shannonEnt"
   ]
  },
  {
   "cell_type": "markdown",
   "metadata": {},
   "source": [
    "## 计算每个特征的每种值"
   ]
  },
  {
   "cell_type": "code",
   "execution_count": 105,
   "metadata": {},
   "outputs": [],
   "source": [
    "def splitDataSet(dataSet, col, value): #把第col列值为value的拿出来\n",
    "    retDataSet = [] # 创建返回的数据集列表\n",
    "    for featVec in dataSet:\n",
    "        if featVec[col] == value:\n",
    "            #reducedFeatVec = featVec[:col] # 去掉col这一列\n",
    "            #reducedFeatVec.extend(featVec[col + 1:]) # 将符合条件的添加到返回的数据集\n",
    "            retDataSet.append(featVec)\n",
    "    return retDataSet # 返回划分后的数据集"
   ]
  },
  {
   "cell_type": "markdown",
   "metadata": {},
   "source": [
    "## 计算信息增益"
   ]
  },
  {
   "cell_type": "code",
   "execution_count": 113,
   "metadata": {},
   "outputs": [],
   "source": [
    "def chooseBestFeatureToSplit(dataSet):\n",
    "    numFeatures = len(dataSet[0]) - 1 # 特征数量\n",
    "    baseEntropy = calcShannonEnt(dataSet) # 计算数据集的香农熵\n",
    "    labelCounts = {} # 保存每个Label出现的次数\n",
    "    bestInfoGain = 0.0 # 信息增益\n",
    "    bestFeature = -1 # 最优特征的索引值\n",
    "    for i in range(numFeatures): # 遍历所有特征，一列一列遍历\n",
    "        featList = [example[i] for example in dataSet] # 第i列的每行的值都保存到featLIst中\n",
    "        uniqueVals = set(featList) # 创建set集合，保证元素不重复\n",
    "        newEntropy = 0.0 # 香农熵\n",
    "        for value in uniqueVals: # 计算信息增益\n",
    "            subDataSet = splitDataSet(dataSet, i, value) # subDataSet划分后的子集\n",
    "            porb = len(subDataSet) / float(len(dataSet)) # 计算子集的概率\n",
    "            newEntropy += porb * calcShannonEnt(subDataSet) # 根据公式计算香农熵\n",
    "        infoGain = baseEntropy - newEntropy # 信息增益\n",
    "        #print(\"第%d个特征的信息增益为%.3f\" % (i,infoGain)) # 打印每个特征的信息增益\n",
    "        if infoGain > bestInfoGain:\n",
    "            bestInfoGain = infoGain\n",
    "            bestFeature = i # 记录增益最大的特征的索引\n",
    "    return bestFeature"
   ]
  },
  {
   "cell_type": "markdown",
   "metadata": {},
   "source": [
    "## 投票表决\n",
    "当特征值划分到只有一个，但是依然无法归为一类时，采用最大投票法，选择最多类别作为该类标签"
   ]
  },
  {
   "cell_type": "code",
   "execution_count": 114,
   "metadata": {},
   "outputs": [],
   "source": [
    "def majorityCnt(classList):\n",
    "    classCount = {}\n",
    "    for vote in classList:\n",
    "        if vote not in classCount.keys():\n",
    "            classCount[vote] = 0\n",
    "        classCount[vote] += 1\n",
    "    sortedClassCount = sorted(classCount.items(), key = operator.itemgtter(),reverse = True)\n",
    "    return sortedClassCount[0][0]"
   ]
  },
  {
   "cell_type": "markdown",
   "metadata": {},
   "source": [
    "## 核心程序"
   ]
  },
  {
   "cell_type": "code",
   "execution_count": 115,
   "metadata": {},
   "outputs": [],
   "source": [
    "def createTree(dataSet, labels, featLabels):\n",
    "    classList = [example[-1] for example in dataSet] # 取分类标签（是否房贷yes or no）\n",
    "    \n",
    "    # 两个if是递归终止条件\n",
    "    if classList.count(classList[0]) == len(classList): # 类别完全相同--第一个终止条件\n",
    "        return classList[0]\n",
    "    if len(dataSet[0]) == 1: # 遍历完所有特征时用最大表决法--第二个终止条件\n",
    "        return majorityCnt(classList)\n",
    "    \n",
    "    bestFeat = chooseBestFeatureToSplit(dataSet) # 选择最优特征\n",
    "    bestFeatLabel = labels[bestFeat] # 取出最优特征对应的Label\n",
    "    featLabels.append(bestFeatLabel)\n",
    "    myTree = {bestFeatLabel : {}}\n",
    "    del (labels[bestFeat]) # 删除该最优特征\n",
    "    featValues = [example[bestFeat] for example in dataSet] # 取出最优特征每行的值\n",
    "    uniqueVals = set(featValues) # 去掉重复属性值\n",
    "    for value in uniqueVals:\n",
    "        myTree[bestFeatLabel][value] = createTree(splitDataSet(dataSet,\n",
    "                                                              bestFeat, value),\n",
    "                                                 labels,featLabels)\n",
    "    return myTree"
   ]
  },
  {
   "cell_type": "markdown",
   "metadata": {},
   "source": [
    "## 样本集"
   ]
  },
  {
   "cell_type": "code",
   "execution_count": 116,
   "metadata": {},
   "outputs": [],
   "source": [
    "def createDataSet():\n",
    "    dataSet = [\n",
    "        [0,0,0,0,'no'],\n",
    "        [0,0,0,1,'no'],\n",
    "        [0,1,0,0,'yes'],\n",
    "        [0,1,1,0,'yes'],\n",
    "        [0,0,0,0,'no'],\n",
    "        [1,0,0,0,'no'],\n",
    "        [1,0,0,1,'no'],\n",
    "        [1,1,1,1,'yes'],\n",
    "        [1,0,1,2,'yes'],\n",
    "        [1,0,1,2,'yes'],\n",
    "        [2,0,1,2,'yes'],\n",
    "        [2,0,1,1,'yes'],\n",
    "        [2,1,0,1,'yes'],\n",
    "        [2,1,0,2,'yes'],\n",
    "        [2,0,0,0,'no'],\n",
    "    ]\n",
    "    labels = ['年龄','有工作','有房','信贷情况'] # 年龄离散化\n",
    "    return dataSet, labels"
   ]
  },
  {
   "cell_type": "code",
   "execution_count": 131,
   "metadata": {},
   "outputs": [],
   "source": [
    "def classify(inputTree, featLabels, testVec):\n",
    "    firstStr = next(iter(inputTree)) # 获取决策树结点\n",
    "    secondDict = inputTree[firstStr] # 下一个字典\n",
    "    featIndex = featLabels.index(firstStr)\n",
    "    for key in secondDict.keys():\n",
    "        if testVec[featIndex] == key:\n",
    "            if type(secondDict[key]).__name__ == 'dict':\n",
    "                classLabel = classify(secondDict[key], featLabels, testVec)\n",
    "            else:\n",
    "                classLabel = secondDict[key]\n",
    "    return classLabel"
   ]
  },
  {
   "cell_type": "markdown",
   "metadata": {},
   "source": [
    "## 主函数"
   ]
  },
  {
   "cell_type": "code",
   "execution_count": 142,
   "metadata": {},
   "outputs": [
    {
     "name": "stdout",
     "output_type": "stream",
     "text": [
      "最优特征索引值：2\n",
      "{'有房': {0: {'有工作': {0: 'no', 1: 'yes'}}, 1: 'yes'}}\n",
      "放贷\n"
     ]
    }
   ],
   "source": [
    "dataSet, labels = createDataSet()\n",
    "print(\"最优特征索引值：\" + str(chooseBestFeatureToSplit(dataSet)))\n",
    "featLabels = []\n",
    "myTree = createTree(dataSet, labels, featLabels)\n",
    "print(myTree)\n",
    "testVec = [0,1] # 没房子，有工作\n",
    "result = classify(myTree, featLabels, testVec)\n",
    "if result == 'yes':\n",
    "    print(\"放贷\")\n",
    "else:\n",
    "    print(\"不放贷\")"
   ]
  }
 ],
 "metadata": {
  "kernelspec": {
   "display_name": "Python 3",
   "language": "python",
   "name": "python3"
  },
  "language_info": {
   "codemirror_mode": {
    "name": "ipython",
    "version": 3
   },
   "file_extension": ".py",
   "mimetype": "text/x-python",
   "name": "python",
   "nbconvert_exporter": "python",
   "pygments_lexer": "ipython3",
   "version": "3.6.5"
  }
 },
 "nbformat": 4,
 "nbformat_minor": 2
}
